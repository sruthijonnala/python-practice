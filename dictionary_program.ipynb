{
  "nbformat": 4,
  "nbformat_minor": 0,
  "metadata": {
    "colab": {
      "provenance": [],
      "authorship_tag": "ABX9TyOeVwvivtOvWxZ9nNE0xLek",
      "include_colab_link": true
    },
    "kernelspec": {
      "name": "python3",
      "display_name": "Python 3"
    },
    "language_info": {
      "name": "python"
    }
  },
  "cells": [
    {
      "cell_type": "markdown",
      "metadata": {
        "id": "view-in-github",
        "colab_type": "text"
      },
      "source": [
        "<a href=\"https://colab.research.google.com/github/sruthijonnala/python-practice/blob/main/dictionary_program.ipynb\" target=\"_parent\"><img src=\"https://colab.research.google.com/assets/colab-badge.svg\" alt=\"Open In Colab\"/></a>"
      ]
    },
    {
      "cell_type": "code",
      "execution_count": 21,
      "metadata": {
        "colab": {
          "base_uri": "https://localhost:8080/"
        },
        "id": "sFBGS38DQcJE",
        "outputId": "4c4fc066-2df0-43c3-c9b1-eda3a4a32320"
      },
      "outputs": [
        {
          "output_type": "stream",
          "name": "stdout",
          "text": [
            "{'two': 2, 'four': 4, 'six': 6, 'eight': 8}\n"
          ]
        }
      ],
      "source": [
        "even = {'two': 2, 'four': 4, 'six':6, 'eight':8, 'ten':10}\n",
        "\n",
        "#display keys\n",
        "even.keys()\n",
        "\n",
        "#dispaly values\n",
        "even.values()\n",
        "\n",
        "#display items\n",
        "even.items()\n",
        "\n",
        "#length of even\n",
        "len(even)\n",
        "\n",
        "#check if 8 is present or not\n",
        "8 in even\n",
        "\n",
        "#check if 3 is present or not\n",
        "3 in even\n",
        "\n",
        "#retrive value corresponding to the key 8\n",
        "even['eight']\n",
        "\n",
        "#del the item from dictionary corresponding to the value 10\n",
        "del even['ten']\n",
        "print(even)\n"
      ]
    }
  ]
}