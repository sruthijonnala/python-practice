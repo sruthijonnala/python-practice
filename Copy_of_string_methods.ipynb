{
  "nbformat": 4,
  "nbformat_minor": 0,
  "metadata": {
    "colab": {
      "provenance": [],
      "authorship_tag": "ABX9TyNUG7K4q6DoEIVbCnQbSm8t",
      "include_colab_link": true
    },
    "kernelspec": {
      "name": "python3",
      "display_name": "Python 3"
    },
    "language_info": {
      "name": "python"
    }
  },
  "cells": [
    {
      "cell_type": "markdown",
      "metadata": {
        "id": "view-in-github",
        "colab_type": "text"
      },
      "source": [
        "<a href=\"https://colab.research.google.com/github/sruthijonnala/python-practice/blob/main/Copy_of_string_methods.ipynb\" target=\"_parent\"><img src=\"https://colab.research.google.com/assets/colab-badge.svg\" alt=\"Open In Colab\"/></a>"
      ]
    },
    {
      "cell_type": "code",
      "execution_count": null,
      "metadata": {
        "colab": {
          "base_uri": "https://localhost:8080/",
          "height": 35
        },
        "id": "5zEEmBhwFRuB",
        "outputId": "883ac828-e5d9-486d-bd7e-aaad9a682df5"
      },
      "outputs": [
        {
          "output_type": "execute_result",
          "data": {
            "text/plain": [
              "'Python Programming'"
            ],
            "application/vnd.google.colaboratory.intrinsic+json": {
              "type": "string"
            }
          },
          "metadata": {},
          "execution_count": 6
        }
      ],
      "source": [
        "#Write a program to convert the string \"python programming\" into title case.\n",
        "s = 'python programming'\n",
        "s.title()"
      ]
    },
    {
      "cell_type": "code",
      "source": [
        "#Given the string \" hello world \", remove the leading and trailing spaces.\n",
        "\n",
        "s1 = ' hello world '\n",
        "s1.strip()"
      ],
      "metadata": {
        "colab": {
          "base_uri": "https://localhost:8080/",
          "height": 35
        },
        "id": "wM5SQHx1G6dL",
        "outputId": "6f97b49b-fd4d-4169-c820-870989a687b1"
      },
      "execution_count": null,
      "outputs": [
        {
          "output_type": "execute_result",
          "data": {
            "text/plain": [
              "'hello world'"
            ],
            "application/vnd.google.colaboratory.intrinsic+json": {
              "type": "string"
            }
          },
          "metadata": {},
          "execution_count": 8
        }
      ]
    },
    {
      "cell_type": "code",
      "source": [
        "#Replace all occurrences of \"a\" with \"o\" in the string \"banana\".\n",
        "\n",
        "str = \"banana\"\n",
        "str.replace('a','o')"
      ],
      "metadata": {
        "colab": {
          "base_uri": "https://localhost:8080/",
          "height": 35
        },
        "id": "uMb6tnmEH2B4",
        "outputId": "8a25a4a3-2a86-402e-db7c-d790a1ba5c83"
      },
      "execution_count": null,
      "outputs": [
        {
          "output_type": "execute_result",
          "data": {
            "text/plain": [
              "'bonono'"
            ],
            "application/vnd.google.colaboratory.intrinsic+json": {
              "type": "string"
            }
          },
          "metadata": {},
          "execution_count": 9
        }
      ]
    },
    {
      "cell_type": "code",
      "source": [
        "#Split the string \"apple,banana,grape\" into a list of fruits.\n",
        "str1 = \"apple,banana,grape\"\n",
        "str1.split(',')"
      ],
      "metadata": {
        "colab": {
          "base_uri": "https://localhost:8080/"
        },
        "id": "aLRPfRJXIGpp",
        "outputId": "b425c733-ba18-41c6-bc2b-396f4aae5cd4"
      },
      "execution_count": null,
      "outputs": [
        {
          "output_type": "execute_result",
          "data": {
            "text/plain": [
              "['apple', 'banana', 'grape']"
            ]
          },
          "metadata": {},
          "execution_count": 10
        }
      ]
    },
    {
      "cell_type": "code",
      "source": [
        "#Check if the string \"HELLO123\" is alphanumeric.\n",
        "str2 = \"HELLO123\"\n",
        "str2.isalpha()"
      ],
      "metadata": {
        "colab": {
          "base_uri": "https://localhost:8080/"
        },
        "id": "Pq-TEVRZIXE9",
        "outputId": "49a25522-7cf3-4d14-8478-15792ba5e686"
      },
      "execution_count": null,
      "outputs": [
        {
          "output_type": "execute_result",
          "data": {
            "text/plain": [
              "False"
            ]
          },
          "metadata": {},
          "execution_count": 12
        }
      ]
    },
    {
      "cell_type": "code",
      "source": [
        "#Convert the string \"HeLLo WoRLd\" to all lowercase and all uppercase.\n",
        "s = \"HeLLo WoRLd\"\n",
        "s.lower()"
      ],
      "metadata": {
        "colab": {
          "base_uri": "https://localhost:8080/",
          "height": 35
        },
        "id": "cTl1pNoLIiOG",
        "outputId": "c121c0ce-2945-494b-e48b-53fe475b7430"
      },
      "execution_count": null,
      "outputs": [
        {
          "output_type": "execute_result",
          "data": {
            "text/plain": [
              "'hello world'"
            ],
            "application/vnd.google.colaboratory.intrinsic+json": {
              "type": "string"
            }
          },
          "metadata": {},
          "execution_count": 13
        }
      ]
    },
    {
      "cell_type": "code",
      "source": [
        "#Convert the string \"learn python programming\" into title case\n",
        "s=\"learn python programming\"\n",
        "s.title()"
      ],
      "metadata": {
        "colab": {
          "base_uri": "https://localhost:8080/",
          "height": 35
        },
        "id": "9WpRL4WnKSyR",
        "outputId": "bb67374f-682b-4a77-f0ea-f62684dd2814"
      },
      "execution_count": null,
      "outputs": [
        {
          "output_type": "execute_result",
          "data": {
            "text/plain": [
              "'Learn Python Programming'"
            ],
            "application/vnd.google.colaboratory.intrinsic+json": {
              "type": "string"
            }
          },
          "metadata": {},
          "execution_count": 15
        }
      ]
    },
    {
      "cell_type": "code",
      "source": [
        "#Remove the extra spaces from the string \" Hello, World! \".\n",
        "s = \" Hello, World! \"\n",
        "s.strip()"
      ],
      "metadata": {
        "colab": {
          "base_uri": "https://localhost:8080/",
          "height": 35
        },
        "id": "wc_8UGytKWoQ",
        "outputId": "4a4cd2fd-4d52-4b30-8802-a0b48f4f02b1"
      },
      "execution_count": null,
      "outputs": [
        {
          "output_type": "execute_result",
          "data": {
            "text/plain": [
              "'Hello, World!'"
            ],
            "application/vnd.google.colaboratory.intrinsic+json": {
              "type": "string"
            }
          },
          "metadata": {},
          "execution_count": 16
        }
      ]
    },
    {
      "cell_type": "code",
      "source": [
        "#Replace the word \"bad\" with \"good\" in the string \"This is a bad day\".\n",
        "s = \"This is a bad day\"\n",
        "s.replace('bad','good')"
      ],
      "metadata": {
        "colab": {
          "base_uri": "https://localhost:8080/",
          "height": 35
        },
        "id": "X_iM4UxFKnSe",
        "outputId": "b89d4172-15d9-4eb9-d377-a8464e9f6ce2"
      },
      "execution_count": null,
      "outputs": [
        {
          "output_type": "execute_result",
          "data": {
            "text/plain": [
              "'This is a good day'"
            ],
            "application/vnd.google.colaboratory.intrinsic+json": {
              "type": "string"
            }
          },
          "metadata": {},
          "execution_count": 18
        }
      ]
    },
    {
      "cell_type": "code",
      "source": [
        "#Split the string \"apple|banana|cherry\" into a list using the separator \"|\"\n",
        "s = \"apple|banana|cherry\"\n",
        "s.split('|')"
      ],
      "metadata": {
        "colab": {
          "base_uri": "https://localhost:8080/"
        },
        "id": "UZDYPsS3KtjD",
        "outputId": "7a7d88f0-3b31-464b-bcd9-4ec528898c5c"
      },
      "execution_count": null,
      "outputs": [
        {
          "output_type": "execute_result",
          "data": {
            "text/plain": [
              "['apple', 'banana', 'cherry']"
            ]
          },
          "metadata": {},
          "execution_count": 22
        }
      ]
    },
    {
      "cell_type": "code",
      "source": [
        "#Write a program to find the index of the first occurrence of the substring \"world\" in the string \"Hello, world!\"\n",
        "text = \"Hello, world!\"\n",
        "text.find('world')"
      ],
      "metadata": {
        "colab": {
          "base_uri": "https://localhost:8080/"
        },
        "id": "OdkMyusbK5qS",
        "outputId": "14655b2c-6c03-45ed-fd87-6ae408d7941f"
      },
      "execution_count": null,
      "outputs": [
        {
          "output_type": "execute_result",
          "data": {
            "text/plain": [
              "7"
            ]
          },
          "metadata": {},
          "execution_count": 24
        }
      ]
    },
    {
      "cell_type": "code",
      "source": [
        "#Join the list [\"Data\", \"Science\", \"Rocks\"] into a single string with spaces between the words.\n",
        "text = [\"Data\", \"Science\", \"Rocks\"]        #joining list\n",
        "result = ' '.join(text)\n",
        "print(result)\n",
        "\n",
        "text2 = ('hello', 'world', 'python')        #joining tuple\n",
        "result = ' '.join(text2)\n",
        "print(result)\n",
        "\n"
      ],
      "metadata": {
        "colab": {
          "base_uri": "https://localhost:8080/"
        },
        "id": "Cxd4mC0uMUNt",
        "outputId": "952e386f-f4a1-4aae-9bcc-cf415e3ab9ab"
      },
      "execution_count": null,
      "outputs": [
        {
          "output_type": "stream",
          "name": "stdout",
          "text": [
            "Data Science Rocks\n",
            "hello world python\n"
          ]
        }
      ]
    },
    {
      "cell_type": "code",
      "source": [
        "#Count how many times the letter \"e\" appears in the string \"Welcome to Python\".\n",
        "str = \"Welcome to Python\"\n",
        "str.count('e')"
      ],
      "metadata": {
        "colab": {
          "base_uri": "https://localhost:8080/"
        },
        "id": "-ioWb9ffN3iN",
        "outputId": "e3829993-15a3-46f5-8c14-1253dc18ccbd"
      },
      "execution_count": null,
      "outputs": [
        {
          "output_type": "execute_result",
          "data": {
            "text/plain": [
              "2"
            ]
          },
          "metadata": {},
          "execution_count": 30
        }
      ]
    },
    {
      "cell_type": "code",
      "source": [
        "#Format the string \"Name: {}, Age: {}\" with \"Alice\" and 25 as values.\n",
        "str = \"Name: {}, Age: {}\"\n",
        "str.format('alice',25)"
      ],
      "metadata": {
        "colab": {
          "base_uri": "https://localhost:8080/",
          "height": 35
        },
        "id": "K2GE5IYMOEg5",
        "outputId": "663f66ce-ce6a-4a3d-b7d5-b55a2f85256b"
      },
      "execution_count": null,
      "outputs": [
        {
          "output_type": "execute_result",
          "data": {
            "text/plain": [
              "'Name: alice, Age: 25'"
            ],
            "application/vnd.google.colaboratory.intrinsic+json": {
              "type": "string"
            }
          },
          "metadata": {},
          "execution_count": 32
        }
      ]
    },
    {
      "cell_type": "code",
      "source": [],
      "metadata": {
        "id": "c1LxHP0WOKxA"
      },
      "execution_count": null,
      "outputs": []
    }
  ]
}