{
  "nbformat": 4,
  "nbformat_minor": 0,
  "metadata": {
    "colab": {
      "provenance": [],
      "authorship_tag": "ABX9TyOhNrCi8ytDfUisRb0jk96U",
      "include_colab_link": true
    },
    "kernelspec": {
      "name": "python3",
      "display_name": "Python 3"
    },
    "language_info": {
      "name": "python"
    }
  },
  "cells": [
    {
      "cell_type": "markdown",
      "metadata": {
        "id": "view-in-github",
        "colab_type": "text"
      },
      "source": [
        "<a href=\"https://colab.research.google.com/github/sruthijonnala/python-practice/blob/main/list_methods.ipynb\" target=\"_parent\"><img src=\"https://colab.research.google.com/assets/colab-badge.svg\" alt=\"Open In Colab\"/></a>"
      ]
    },
    {
      "cell_type": "code",
      "source": [
        "#Write a program that adds the number 10 to the list [1, 2, 3] using the\n",
        "list1 = [1, 2, 3]\n",
        "list1.append(10)\n",
        "list1\n",
        "\n",
        "#How can you add the string \"Python\" to the list [\"Java\", \"C++\"]\n",
        "programming = [\"Java\", \"C++\"]\n",
        "programming.append('python')\n",
        "programming"
      ],
      "metadata": {
        "colab": {
          "base_uri": "https://localhost:8080/"
        },
        "id": "rAwy7g9QdEqg",
        "outputId": "89a93085-85da-4cfc-f0c6-83705f0a16f2"
      },
      "execution_count": null,
      "outputs": [
        {
          "output_type": "execute_result",
          "data": {
            "text/plain": [
              "['Java', 'C++', 'python']"
            ]
          },
          "metadata": {},
          "execution_count": 18
        }
      ]
    },
    {
      "cell_type": "code",
      "source": [
        "#Use the .extend() method to add the list [4, 5, 6] to the list [1, 2, 3].\n",
        "list1 = [4,5,6]\n",
        "list2 = [1,2,3]\n",
        "list1.extend(list2)\n",
        "list1"
      ],
      "metadata": {
        "colab": {
          "base_uri": "https://localhost:8080/"
        },
        "id": "myn4gmM6ddx7",
        "outputId": "4a6eebbd-3014-4a3f-f1a5-5b215fab8fd4"
      },
      "execution_count": null,
      "outputs": [
        {
          "output_type": "execute_result",
          "data": {
            "text/plain": [
              "[4, 5, 6, 1, 2, 3]"
            ]
          },
          "metadata": {},
          "execution_count": 20
        }
      ]
    },
    {
      "cell_type": "code",
      "source": [
        "#Write a program to insert the number 100 at index 2 in the list [10, 20, 30, 40].\n",
        "list1 = [10, 20, 30, 40]\n",
        "list1.insert(2,100)\n",
        "list1"
      ],
      "metadata": {
        "colab": {
          "base_uri": "https://localhost:8080/"
        },
        "id": "rhD8tZZ9eV31",
        "outputId": "c6843d2e-f6af-4a10-f62d-d386ed1b871e"
      },
      "execution_count": null,
      "outputs": [
        {
          "output_type": "execute_result",
          "data": {
            "text/plain": [
              "[10, 20, 100, 30, 40]"
            ]
          },
          "metadata": {},
          "execution_count": 24
        }
      ]
    },
    {
      "cell_type": "code",
      "source": [
        "#How can you insert the string \"Hello\" at the start of the list [\"World\", \"Python\"]?\n",
        "list1 = [\"World\", \"Python\"]\n",
        "list1.insert(0,'hello')\n",
        "list1"
      ],
      "metadata": {
        "colab": {
          "base_uri": "https://localhost:8080/"
        },
        "id": "X6IXcsDQfBdU",
        "outputId": "bb5f9984-8881-4f6c-dd29-ea529c4c6826"
      },
      "execution_count": null,
      "outputs": [
        {
          "output_type": "execute_result",
          "data": {
            "text/plain": [
              "['hello', 'World', 'Python']"
            ]
          },
          "metadata": {},
          "execution_count": 26
        }
      ]
    },
    {
      "cell_type": "code",
      "source": [
        "#Remove the first occurrence of the number 5 from the list [1, 2, 5, 3, 5]\n",
        "list1 = [1, 2, 5, 3, 5]\n",
        "list1.remove(2)\n",
        "list1"
      ],
      "metadata": {
        "colab": {
          "base_uri": "https://localhost:8080/"
        },
        "id": "4PEeLJlZfWRJ",
        "outputId": "7fd1ccfa-d3c7-45c9-f32b-ca785ab0affa"
      },
      "execution_count": null,
      "outputs": [
        {
          "output_type": "execute_result",
          "data": {
            "text/plain": [
              "[1, 5, 3, 5]"
            ]
          },
          "metadata": {},
          "execution_count": 27
        }
      ]
    },
    {
      "cell_type": "code",
      "source": [
        "#Use the .pop() method to remove the last element from the list [10, 20, 30] and print the list after removal.\n",
        "l = [10, 20, 30]\n",
        "l.index(30)\n",
        "\n",
        "l.pop(2)\n",
        "l\n"
      ],
      "metadata": {
        "colab": {
          "base_uri": "https://localhost:8080/"
        },
        "id": "x8r6ltejgLBw",
        "outputId": "2be9b946-c4e7-4c32-916f-70c388725d2d"
      },
      "execution_count": 32,
      "outputs": [
        {
          "output_type": "execute_result",
          "data": {
            "text/plain": [
              "[10, 20]"
            ]
          },
          "metadata": {},
          "execution_count": 32
        }
      ]
    },
    {
      "cell_type": "code",
      "source": [
        "#Write a program to clear all the elements from the list [1, 2, 3, 4] using .clear().\n",
        "s = [1, 2, 3, 4]\n",
        "s.clear()\n",
        "s"
      ],
      "metadata": {
        "colab": {
          "base_uri": "https://localhost:8080/"
        },
        "id": "pl-Kn5UjgqQy",
        "outputId": "70bbc193-872b-430c-8118-9e98f5c82d9a"
      },
      "execution_count": 34,
      "outputs": [
        {
          "output_type": "execute_result",
          "data": {
            "text/plain": [
              "[]"
            ]
          },
          "metadata": {},
          "execution_count": 34
        }
      ]
    },
    {
      "cell_type": "code",
      "source": [
        "#Find the index of the element 3 in the list [1, 2, 3, 4, 5].\n",
        "a = [1, 2, 3, 4, 5]\n",
        "a.index(3)\n"
      ],
      "metadata": {
        "colab": {
          "base_uri": "https://localhost:8080/"
        },
        "id": "Pmms8s-lhWOJ",
        "outputId": "f64c6159-27b9-47b3-eff3-661842437805"
      },
      "execution_count": 36,
      "outputs": [
        {
          "output_type": "execute_result",
          "data": {
            "text/plain": [
              "2"
            ]
          },
          "metadata": {},
          "execution_count": 36
        }
      ]
    },
    {
      "cell_type": "code",
      "source": [
        "#Write a program to count the number of occurrences of \"apple\" in the list [\"apple\", \"banana\", \"apple\", \"cherry\"].\n",
        "str = [\"apple\", \"banana\", \"apple\", \"cherry\"]\n",
        "str.count('apple')"
      ],
      "metadata": {
        "colab": {
          "base_uri": "https://localhost:8080/"
        },
        "id": "xQGQHXB8hmKx",
        "outputId": "66c77a82-6712-4420-bd14-5bcd2e55c132"
      },
      "execution_count": 37,
      "outputs": [
        {
          "output_type": "execute_result",
          "data": {
            "text/plain": [
              "2"
            ]
          },
          "metadata": {},
          "execution_count": 37
        }
      ]
    },
    {
      "cell_type": "code",
      "source": [
        "#Sort the list [4, 2, 5, 1, 3] in ascending order using .sort().\n",
        "list1= [4, 2, 5, 1, 3]\n",
        "list1.sort()\n",
        "list1"
      ],
      "metadata": {
        "colab": {
          "base_uri": "https://localhost:8080/"
        },
        "id": "rvWD04p0hxUm",
        "outputId": "11f60ec6-7a05-40c1-c423-59fb31e9ea12"
      },
      "execution_count": 38,
      "outputs": [
        {
          "output_type": "execute_result",
          "data": {
            "text/plain": [
              "[1, 2, 3, 4, 5]"
            ]
          },
          "metadata": {},
          "execution_count": 38
        }
      ]
    },
    {
      "cell_type": "code",
      "source": [
        "#Write a program to sort the list [\"banana\", \"apple\", \"cherry\"] in reverse alphabetical order using .sort().\n",
        "str1 = [\"banana\", \"apple\", \"cherry\"]\n",
        "str1.sort()\n",
        "str1"
      ],
      "metadata": {
        "colab": {
          "base_uri": "https://localhost:8080/"
        },
        "id": "dtf31Elgh5G0",
        "outputId": "441dbd26-f1ca-4cb5-dc69-d640b8dcd60a"
      },
      "execution_count": 39,
      "outputs": [
        {
          "output_type": "execute_result",
          "data": {
            "text/plain": [
              "['apple', 'banana', 'cherry']"
            ]
          },
          "metadata": {},
          "execution_count": 39
        }
      ]
    },
    {
      "cell_type": "code",
      "source": [
        "#How can you reverse the list [\"a\", \"b\", \"c\", \"d\"] using .reverse()?\n",
        "str1 = [\"a\", \"b\", \"c\", \"d\"]\n",
        "str1.reverse()\n",
        "str1"
      ],
      "metadata": {
        "colab": {
          "base_uri": "https://localhost:8080/"
        },
        "id": "zkrkHedXiGB0",
        "outputId": "17b273f4-df8b-4588-a2f5-b7535b13ac8c"
      },
      "execution_count": 40,
      "outputs": [
        {
          "output_type": "execute_result",
          "data": {
            "text/plain": [
              "['d', 'c', 'b', 'a']"
            ]
          },
          "metadata": {},
          "execution_count": 40
        }
      ]
    },
    {
      "cell_type": "code",
      "source": [
        "#How would you create a copy of the list [\"apple\", \"banana\", \"cherry\"] and assign it to a new variable?\n",
        "str1 = [\"apple\", \"banana\", \"cherry\"]\n",
        "str1.copy()\n",
        "str1"
      ],
      "metadata": {
        "colab": {
          "base_uri": "https://localhost:8080/"
        },
        "id": "fcblh1lfiVZo",
        "outputId": "05b90ff0-9d38-413e-de62-d17c39c18f46"
      },
      "execution_count": 41,
      "outputs": [
        {
          "output_type": "execute_result",
          "data": {
            "text/plain": [
              "['apple', 'banana', 'cherry']"
            ]
          },
          "metadata": {},
          "execution_count": 41
        }
      ]
    },
    {
      "cell_type": "code",
      "source": [
        "#Write a program to return a sorted version of the list [5, 2, 9, 1, 3] using sorted().\n",
        "list1 = [5, 2, 9, 1, 3]\n",
        "list2 = sorted(list1)\n",
        "list2"
      ],
      "metadata": {
        "colab": {
          "base_uri": "https://localhost:8080/"
        },
        "id": "7ICgenTHihoT",
        "outputId": "97b47194-eb32-4196-e782-a6a28fb35b4f"
      },
      "execution_count": 44,
      "outputs": [
        {
          "output_type": "execute_result",
          "data": {
            "text/plain": [
              "[1, 2, 3, 5, 9]"
            ]
          },
          "metadata": {},
          "execution_count": 44
        }
      ]
    },
    {
      "cell_type": "code",
      "source": [
        "#How can you find the length of the list [\"Python\", \"Java\", \"C++\"]?\n",
        "str1 = [\"Python\", \"Java\", \"C++\"]\n",
        "len(str1)"
      ],
      "metadata": {
        "colab": {
          "base_uri": "https://localhost:8080/"
        },
        "id": "AIusKlJ_i5wy",
        "outputId": "b4a671e1-5321-4252-9f6d-5eda2f860367"
      },
      "execution_count": 46,
      "outputs": [
        {
          "output_type": "execute_result",
          "data": {
            "text/plain": [
              "3"
            ]
          },
          "metadata": {},
          "execution_count": 46
        }
      ]
    }
  ]
}